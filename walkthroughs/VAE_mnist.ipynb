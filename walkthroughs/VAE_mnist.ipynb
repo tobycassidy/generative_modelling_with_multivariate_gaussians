{
 "cells": [
  {
   "cell_type": "code",
   "execution_count": 1,
   "id": "boring-speaking",
   "metadata": {},
   "outputs": [],
   "source": [
    "import os \n",
    "import yaml\n",
    "import tensorflow as tf \n",
    "import numpy as np\n",
    "import matplotlib.pyplot as plt\n",
    "import plotly.graph_objects as go "
   ]
  },
  {
   "cell_type": "code",
   "execution_count": 2,
   "id": "prospective-dayton",
   "metadata": {},
   "outputs": [],
   "source": [
    "os.chdir('..')\n",
    "\n",
    "from utils.VAE_utils import VAE, build_variational_encoder, build_variational_decoder, get_latent_space"
   ]
  },
  {
   "cell_type": "markdown",
   "id": "compact-classroom",
   "metadata": {},
   "source": [
    "### Setup encoder & decoder configs"
   ]
  },
  {
   "cell_type": "code",
   "execution_count": 3,
   "id": "surprising-segment",
   "metadata": {},
   "outputs": [],
   "source": [
    "with open(os.path.join(os.getcwd(), \"configs/VAE_config.yaml\"), \"r\") as file:\n",
    "    vae_config = yaml.safe_load(file)\n",
    "\n",
    "    \n",
    "encoder_config = vae_config['encoder']\n",
    "decoder_config = vae_config['decoder']"
   ]
  },
  {
   "cell_type": "markdown",
   "id": "textile-harvey",
   "metadata": {},
   "source": [
    "### Load data - MNIST "
   ]
  },
  {
   "cell_type": "code",
   "execution_count": 4,
   "id": "little-front",
   "metadata": {},
   "outputs": [],
   "source": [
    "(X_train, y_train), (X_test, y_test) = tf.keras.datasets.mnist.load_data()"
   ]
  },
  {
   "cell_type": "code",
   "execution_count": 5,
   "id": "engaging-irish",
   "metadata": {},
   "outputs": [],
   "source": [
    "mnist_digits = np.concatenate([X_train, X_train], axis=0)\n",
    "mnist_digits = np.expand_dims(mnist_digits, -1).astype(\"float32\") / 255"
   ]
  },
  {
   "cell_type": "markdown",
   "id": "destroyed-airport",
   "metadata": {},
   "source": [
    "### Build encoder and decoder"
   ]
  },
  {
   "cell_type": "code",
   "execution_count": 6,
   "id": "private-buddy",
   "metadata": {},
   "outputs": [],
   "source": [
    "encoder_input, encoder_output, encoder, z_mean, z_log_var = build_variational_encoder(\n",
    "    encoder_config=encoder_config,\n",
    ")"
   ]
  },
  {
   "cell_type": "code",
   "execution_count": 7,
   "id": "vertical-penalty",
   "metadata": {},
   "outputs": [
    {
     "name": "stdout",
     "output_type": "stream",
     "text": [
      "Model: \"encoder\"\n",
      "__________________________________________________________________________________________________\n",
      "Layer (type)                    Output Shape         Param #     Connected to                     \n",
      "==================================================================================================\n",
      "mnist_inputs (InputLayer)       [(None, 28, 28, 1)]  0                                            \n",
      "__________________________________________________________________________________________________\n",
      "encoder_conv_1 (Conv2D)         (None, 14, 14, 32)   320         mnist_inputs[0][0]               \n",
      "__________________________________________________________________________________________________\n",
      "batch_norm_encoder_1 (BatchNorm (None, 14, 14, 32)   128         encoder_conv_1[0][0]             \n",
      "__________________________________________________________________________________________________\n",
      "leaky_relu_encoder_1 (LeakyReLU (None, 14, 14, 32)   0           batch_norm_encoder_1[0][0]       \n",
      "__________________________________________________________________________________________________\n",
      "encoder_conv_2 (Conv2D)         (None, 7, 7, 64)     18496       leaky_relu_encoder_1[0][0]       \n",
      "__________________________________________________________________________________________________\n",
      "batch_norm_encoder_2 (BatchNorm (None, 7, 7, 64)     256         encoder_conv_2[0][0]             \n",
      "__________________________________________________________________________________________________\n",
      "leaky_relu_encoder_2 (LeakyReLU (None, 7, 7, 64)     0           batch_norm_encoder_2[0][0]       \n",
      "__________________________________________________________________________________________________\n",
      "encoder_conv_3 (Conv2D)         (None, 4, 4, 32)     18464       leaky_relu_encoder_2[0][0]       \n",
      "__________________________________________________________________________________________________\n",
      "batch_norm_encoder_3 (BatchNorm (None, 4, 4, 32)     128         encoder_conv_3[0][0]             \n",
      "__________________________________________________________________________________________________\n",
      "leaky_relu_encoder_3 (LeakyReLU (None, 4, 4, 32)     0           batch_norm_encoder_3[0][0]       \n",
      "__________________________________________________________________________________________________\n",
      "flatten_encoder (Flatten)       (None, 512)          0           leaky_relu_encoder_3[0][0]       \n",
      "__________________________________________________________________________________________________\n",
      "encoder_output (Dense)          (None, 2)            1026        flatten_encoder[0][0]            \n",
      "__________________________________________________________________________________________________\n",
      "z_mean (Dense)                  (None, 2)            6           encoder_output[0][0]             \n",
      "__________________________________________________________________________________________________\n",
      "z_log_var (Dense)               (None, 2)            6           encoder_output[0][0]             \n",
      "__________________________________________________________________________________________________\n",
      "sampling (Sampling)             (None, 2)            0           z_mean[0][0]                     \n",
      "                                                                 z_log_var[0][0]                  \n",
      "==================================================================================================\n",
      "Total params: 38,830\n",
      "Trainable params: 38,574\n",
      "Non-trainable params: 256\n",
      "__________________________________________________________________________________________________\n"
     ]
    }
   ],
   "source": [
    "encoder.summary()"
   ]
  },
  {
   "cell_type": "code",
   "execution_count": 8,
   "id": "third-language",
   "metadata": {},
   "outputs": [],
   "source": [
    "decoder_input, decoder_output, decoder = build_variational_decoder(\n",
    "    decoder_config=decoder_config\n",
    ")"
   ]
  },
  {
   "cell_type": "code",
   "execution_count": 9,
   "id": "amino-stack",
   "metadata": {},
   "outputs": [
    {
     "name": "stdout",
     "output_type": "stream",
     "text": [
      "Model: \"decoder\"\n",
      "_________________________________________________________________\n",
      "Layer (type)                 Output Shape              Param #   \n",
      "=================================================================\n",
      "decoder_input (InputLayer)   [(None, 2)]               0         \n",
      "_________________________________________________________________\n",
      "shape_prod (Dense)           (None, 3136)              9408      \n",
      "_________________________________________________________________\n",
      "reshape (Reshape)            (None, 7, 7, 64)          0         \n",
      "_________________________________________________________________\n",
      "decoder_conv_1 (Conv2DTransp (None, 14, 14, 64)        36928     \n",
      "_________________________________________________________________\n",
      "batch_norm_decoder_1 (BatchN (None, 14, 14, 64)        256       \n",
      "_________________________________________________________________\n",
      "leaky_relu_decoder_1 (LeakyR (None, 14, 14, 64)        0         \n",
      "_________________________________________________________________\n",
      "decoder_conv_2 (Conv2DTransp (None, 28, 28, 32)        18464     \n",
      "_________________________________________________________________\n",
      "batch_norm_decoder_2 (BatchN (None, 28, 28, 32)        128       \n",
      "_________________________________________________________________\n",
      "leaky_relu_decoder_2 (LeakyR (None, 28, 28, 32)        0         \n",
      "_________________________________________________________________\n",
      "decoder_conv_3 (Conv2DTransp (None, 28, 28, 1)         289       \n",
      "=================================================================\n",
      "Total params: 65,473\n",
      "Trainable params: 65,281\n",
      "Non-trainable params: 192\n",
      "_________________________________________________________________\n"
     ]
    }
   ],
   "source": [
    "decoder.summary()"
   ]
  },
  {
   "cell_type": "markdown",
   "id": "experimental-satellite",
   "metadata": {},
   "source": [
    "### Instantiate VAE class and train"
   ]
  },
  {
   "cell_type": "code",
   "execution_count": 10,
   "id": "better-electric",
   "metadata": {},
   "outputs": [
    {
     "name": "stdout",
     "output_type": "stream",
     "text": [
      "Epoch 1/10\n",
      "938/938 [==============================] - 102s 109ms/step - loss: 226.3839 - reconstruction_loss: 183.5345 - kl_loss: 1.3480\n",
      "Epoch 2/10\n",
      "938/938 [==============================] - 108s 115ms/step - loss: 161.3226 - reconstruction_loss: 158.2419 - kl_loss: 1.1706\n",
      "Epoch 3/10\n",
      "938/938 [==============================] - 100s 107ms/step - loss: 155.8638 - reconstruction_loss: 153.4755 - kl_loss: 1.4102\n",
      "Epoch 4/10\n",
      "938/938 [==============================] - 101s 108ms/step - loss: 152.6191 - reconstruction_loss: 150.1099 - kl_loss: 1.6141\n",
      "Epoch 5/10\n",
      "938/938 [==============================] - 102s 109ms/step - loss: 150.2410 - reconstruction_loss: 147.8045 - kl_loss: 1.7660\n",
      "Epoch 6/10\n",
      "938/938 [==============================] - 103s 109ms/step - loss: 148.4064 - reconstruction_loss: 146.0237 - kl_loss: 1.8863\n",
      "Epoch 7/10\n",
      "938/938 [==============================] - 102s 109ms/step - loss: 147.1320 - reconstruction_loss: 144.7413 - kl_loss: 1.9884\n",
      "Epoch 8/10\n",
      "938/938 [==============================] - 103s 109ms/step - loss: 145.7530 - reconstruction_loss: 143.7042 - kl_loss: 2.0674\n",
      "Epoch 9/10\n",
      "938/938 [==============================] - 103s 109ms/step - loss: 145.1709 - reconstruction_loss: 142.7898 - kl_loss: 2.1438\n",
      "Epoch 10/10\n",
      "938/938 [==============================] - 103s 109ms/step - loss: 144.2869 - reconstruction_loss: 142.0936 - kl_loss: 2.1825\n"
     ]
    }
   ],
   "source": [
    "variational_autoencoder = VAE(encoder, decoder)\n",
    "variational_autoencoder.compile(\n",
    "    optimizer=tf.keras.optimizers.Adam()\n",
    ")\n",
    "\n",
    "history = variational_autoencoder.fit(\n",
    "    mnist_digits, \n",
    "    epochs=10, \n",
    "    batch_size=128\n",
    ")"
   ]
  },
  {
   "cell_type": "code",
   "execution_count": 11,
   "id": "constant-imaging",
   "metadata": {},
   "outputs": [],
   "source": [
    "latent_space, sample_range_x, sample_range_y, pixel_range = get_latent_space(\n",
    "    decoder=decoder, \n",
    "    n=30, \n",
    "    digit_size=28,\n",
    "    scale=1.5\n",
    ")"
   ]
  },
  {
   "cell_type": "code",
   "execution_count": 18,
   "id": "accepted-mixture",
   "metadata": {},
   "outputs": [],
   "source": [
    "fig = go.Figure()\n",
    "\n",
    "fig.add_trace(\n",
    "    go.Heatmap(\n",
    "        x=np.arange(len(sample_range_x)),\n",
    "        y=np.arange(len(sample_range_y)),\n",
    "        z=latent_space,\n",
    "        showscale=False\n",
    "    )\n",
    ")\n",
    "\n",
    "\n",
    "fig.update_layout(\n",
    "    height=800,\n",
    "    width=800,\n",
    "    margin=dict(b=0, l=0, r=0, t=20),\n",
    "    title=dict(\n",
    "        text='MNIST Digits Represented with a Multivariate Gaussian | Variational Autoencoder',\n",
    "        font=dict(size=11),\n",
    "    ),\n",
    "    xaxis=dict(\n",
    "        title=dict(text='z[0]'),\n",
    "        tickmode='array',\n",
    "        tickfont=dict(size=10),\n",
    "        tickvals=pixel_range,\n",
    "        ticktext=sample_range_x\n",
    "    ),\n",
    "    yaxis=dict(\n",
    "        title=dict(text='z[1]'),\n",
    "        tickmode='array',\n",
    "        tickfont=dict(size=10),\n",
    "        tickvals=pixel_range,\n",
    "        ticktext=sample_range_y,\n",
    "        autorange='reversed'\n",
    "    ),\n",
    ")\n",
    "\n",
    "fig.write_html('./docs/VAE_mnist.html')"
   ]
  },
  {
   "cell_type": "code",
   "execution_count": 20,
   "id": "interested-sculpture",
   "metadata": {},
   "outputs": [],
   "source": [
    "fig.write_image('./VAE_mnist.png')"
   ]
  },
  {
   "cell_type": "code",
   "execution_count": null,
   "id": "unexpected-force",
   "metadata": {},
   "outputs": [],
   "source": []
  }
 ],
 "metadata": {
  "kernelspec": {
   "display_name": "Python 3",
   "language": "python",
   "name": "python3"
  },
  "language_info": {
   "codemirror_mode": {
    "name": "ipython",
    "version": 3
   },
   "file_extension": ".py",
   "mimetype": "text/x-python",
   "name": "python",
   "nbconvert_exporter": "python",
   "pygments_lexer": "ipython3",
   "version": "3.8.0"
  }
 },
 "nbformat": 4,
 "nbformat_minor": 5
}
