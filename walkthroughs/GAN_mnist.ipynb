{
 "cells": [
  {
   "cell_type": "code",
   "execution_count": 1,
   "id": "driving-premiere",
   "metadata": {},
   "outputs": [],
   "source": [
    "import os \n",
    "import yaml\n",
    "import tensorflow as tf \n",
    "import numpy as np\n",
    "import matplotlib.pyplot as plt\n",
    "import plotly.graph_objects as go "
   ]
  },
  {
   "cell_type": "code",
   "execution_count": 2,
   "id": "appreciated-baseball",
   "metadata": {},
   "outputs": [],
   "source": [
    "os.chdir('..')\n",
    "\n",
    "from utils.GAN_utils import (build_generator, build_discriminator, GAN, \n",
    "                             generate_fake_images,\n",
    "                             generate_real_and_fake_images\n",
    "                             )"
   ]
  },
  {
   "cell_type": "markdown",
   "id": "patent-vegetation",
   "metadata": {},
   "source": [
    "### Setup generator & discriminator configs"
   ]
  },
  {
   "cell_type": "code",
   "execution_count": 3,
   "id": "comprehensive-mistress",
   "metadata": {},
   "outputs": [],
   "source": [
    "with open(os.path.join(os.getcwd(), \"configs/GAN_config.yaml\"), \"r\") as file:\n",
    "    gan_config = yaml.safe_load(file)\n",
    "\n",
    "    \n",
    "generator_config = gan_config['generator']\n",
    "discriminator_config = gan_config['discriminator']"
   ]
  },
  {
   "cell_type": "markdown",
   "id": "collected-rwanda",
   "metadata": {},
   "source": [
    "### Load data - MNIST "
   ]
  },
  {
   "cell_type": "code",
   "execution_count": 4,
   "id": "foreign-dryer",
   "metadata": {},
   "outputs": [],
   "source": [
    "(X_train, y_train), (X_test, y_test) = tf.keras.datasets.mnist.load_data()"
   ]
  },
  {
   "cell_type": "code",
   "execution_count": 5,
   "id": "abstract-initial",
   "metadata": {},
   "outputs": [],
   "source": [
    "mnist_digits = np.concatenate([X_train, X_train], axis=0)\n",
    "mnist_digits = np.expand_dims(mnist_digits, -1).astype(\"float32\") / 255"
   ]
  },
  {
   "cell_type": "markdown",
   "id": "micro-relation",
   "metadata": {},
   "source": [
    "### Build generator and discriminator"
   ]
  },
  {
   "cell_type": "code",
   "execution_count": 6,
   "id": "loved-outline",
   "metadata": {},
   "outputs": [
    {
     "name": "stdout",
     "output_type": "stream",
     "text": [
      "Model: \"generator\"\n",
      "_________________________________________________________________\n",
      "Layer (type)                 Output Shape              Param #   \n",
      "=================================================================\n",
      "generator_input (InputLayer) [(None, 2)]               0         \n",
      "_________________________________________________________________\n",
      "shape_prod (Dense)           (None, 6272)              18816     \n",
      "_________________________________________________________________\n",
      "reshape (Reshape)            (None, 7, 7, 128)         0         \n",
      "_________________________________________________________________\n",
      "generator_conv_1 (Conv2DTran (None, 14, 14, 128)       262272    \n",
      "_________________________________________________________________\n",
      "batch_norm_generator_1 (Batc (None, 14, 14, 128)       512       \n",
      "_________________________________________________________________\n",
      "leaky_relu_generator_1 (Leak (None, 14, 14, 128)       0         \n",
      "_________________________________________________________________\n",
      "generator_conv_2 (Conv2DTran (None, 28, 28, 128)       262272    \n",
      "_________________________________________________________________\n",
      "batch_norm_generator_2 (Batc (None, 28, 28, 128)       512       \n",
      "_________________________________________________________________\n",
      "leaky_relu_generator_2 (Leak (None, 28, 28, 128)       0         \n",
      "_________________________________________________________________\n",
      "generator_conv_3 (Conv2D)    (None, 28, 28, 1)         6273      \n",
      "=================================================================\n",
      "Total params: 550,657\n",
      "Trainable params: 550,145\n",
      "Non-trainable params: 512\n",
      "_________________________________________________________________\n"
     ]
    }
   ],
   "source": [
    "generator = build_generator(generator_config)\n",
    "generator.summary()"
   ]
  },
  {
   "cell_type": "code",
   "execution_count": 8,
   "id": "removed-montreal",
   "metadata": {},
   "outputs": [
    {
     "name": "stdout",
     "output_type": "stream",
     "text": [
      "Model: \"discriminator\"\n",
      "_________________________________________________________________\n",
      "Layer (type)                 Output Shape              Param #   \n",
      "=================================================================\n",
      "discriminator_input (InputLa [(None, 28, 28, 1)]       0         \n",
      "_________________________________________________________________\n",
      "discriminator_conv_1 (Conv2D (None, 14, 14, 64)        640       \n",
      "_________________________________________________________________\n",
      "batch_norm_discriminator_1 ( (None, 14, 14, 64)        256       \n",
      "_________________________________________________________________\n",
      "leaky_relu_discriminator_1 ( (None, 14, 14, 64)        0         \n",
      "_________________________________________________________________\n",
      "discriminator_conv_2 (Conv2D (None, 7, 7, 64)          36928     \n",
      "_________________________________________________________________\n",
      "batch_norm_discriminator_2 ( (None, 7, 7, 64)          256       \n",
      "_________________________________________________________________\n",
      "leaky_relu_discriminator_2 ( (None, 7, 7, 64)          0         \n",
      "_________________________________________________________________\n",
      "flatten_discriminator (Flatt (None, 3136)              0         \n",
      "_________________________________________________________________\n",
      "discriminator_output (Dense) (None, 1)                 3137      \n",
      "=================================================================\n",
      "Total params: 41,217\n",
      "Trainable params: 40,961\n",
      "Non-trainable params: 256\n",
      "_________________________________________________________________\n"
     ]
    }
   ],
   "source": [
    "discriminator = build_discriminator(discriminator_config)\n",
    "discriminator.summary()"
   ]
  },
  {
   "cell_type": "code",
   "execution_count": 9,
   "id": "underlying-ordering",
   "metadata": {},
   "outputs": [
    {
     "name": "stdout",
     "output_type": "stream",
     "text": [
      "Model: \"sequential\"\n",
      "_________________________________________________________________\n",
      "Layer (type)                 Output Shape              Param #   \n",
      "=================================================================\n",
      "generator (Functional)       (None, 28, 28, 1)         550657    \n",
      "_________________________________________________________________\n",
      "discriminator (Functional)   (None, 1)                 41217     \n",
      "=================================================================\n",
      "Total params: 591,874\n",
      "Trainable params: 550,145\n",
      "Non-trainable params: 41,729\n",
      "_________________________________________________________________\n"
     ]
    }
   ],
   "source": [
    "GAN = GAN(generator, discriminator)\n",
    "GAN.summary()"
   ]
  },
  {
   "cell_type": "code",
   "execution_count": null,
   "id": "twenty-resort",
   "metadata": {},
   "outputs": [],
   "source": []
  }
 ],
 "metadata": {
  "kernelspec": {
   "display_name": "Python 3",
   "language": "python",
   "name": "python3"
  },
  "language_info": {
   "codemirror_mode": {
    "name": "ipython",
    "version": 3
   },
   "file_extension": ".py",
   "mimetype": "text/x-python",
   "name": "python",
   "nbconvert_exporter": "python",
   "pygments_lexer": "ipython3",
   "version": "3.8.0"
  }
 },
 "nbformat": 4,
 "nbformat_minor": 5
}
